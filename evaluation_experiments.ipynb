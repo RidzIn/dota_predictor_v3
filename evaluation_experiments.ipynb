{
 "cells": [
  {
   "cell_type": "code",
   "execution_count": 2,
   "id": "initial_id",
   "metadata": {
    "collapsed": true,
    "ExecuteTime": {
     "end_time": "2024-09-13T06:25:09.052457Z",
     "start_time": "2024-09-13T06:20:42.163374Z"
    }
   },
   "outputs": [
    {
     "name": "stdout",
     "output_type": "stream",
     "text": [
      "Prediction_method: ML\n",
      "Accuracy: 54.88% | Right: 45 | Wrong: 37\n",
      "-------------------------------\n",
      "Prediction_method: NN\n",
      "Accuracy: 62.20% | Right: 51 | Wrong: 31\n",
      "-------------------------------\n",
      "Prediction_method: Combination\n",
      "Matches length: 82 | Combination length: 58\n",
      "Accuracy: 62.07% | Right: 36 | Wrong: 22\n",
      "-------------------------------\n"
     ]
    },
    {
     "data": {
      "text/plain": "{'combined_df':                              match_info                              teams  \\\n 1   |Match ID: 7930304864 | Map Map #2|      Xtreme Gaming | Talon Esports   \n 2   |Match ID: 7930461959 | Map Map #2|         Team Liquid | BetBoom Team   \n 3   |Match ID: 7930893265 | Map Map #1|                 Aurora | Team Zero   \n 4   |Match ID: 7930995251 | Map Map #2|                 Team Zero | Aurora   \n 6   |Match ID: 7932026809 | Map Map #1|            Heroic | Tundra Esports   \n 7   |Match ID: 7932133662 | Map Map #2|            Tundra Esports | Heroic   \n 8   |Match ID: 7930666447 | Map Map #1|                 Cloud9 | 1win Team   \n 9   |Match ID: 7930776393 | Map Map #2|                 Cloud9 | 1win Team   \n 11  |Match ID: 7932276041 | Map Map #1|                Nouns | Team Spirit   \n 12  |Match ID: 7932411449 | Map Map #2|                Team Spirit | Nouns   \n 17  |Match ID: 7933710437 | Map Map #2|                    Aurora | Cloud9   \n 19  |Match ID: 7933944690 | Map Map #2|      Team Falcons | Tundra Esports   \n 20  |Match ID: 7934129660 | Map Map #1|          Nouns | Gaimin Gladiators   \n 21  |Match ID: 7935087384 | Map Map #2|       Talon Esports | BetBoom Team   \n 22  |Match ID: 7935234871 | Map Map #1|              Team Zero | 1win Team   \n 23  |Match ID: 7935308931 | Map Map #2|              Team Zero | 1win Team   \n 25  |Match ID: 7936609569 | Map Map #1|                Team Spirit | G2.iG   \n 26  |Match ID: 7936701967 | Map Map #2|                G2.iG | Team Spirit   \n 27  |Match ID: 7935409271 | Map Map #1|               Nouns | BetBoom Team   \n 28  |Match ID: 7935519998 | Map Map #2|               BetBoom Team | Nouns   \n 29  |Match ID: 7935628244 | Map Map #1|           1win Team | Team Falcons   \n 30  |Match ID: 7935724693 | Map Map #2|           Team Falcons | 1win Team   \n 31  |Match ID: 7936796980 | Map Map #1|                    Aurora | Heroic   \n 32  |Match ID: 7936911418 | Map Map #2|                    Heroic | Aurora   \n 33  |Match ID: 7937026070 | Map Map #3|                    Aurora | Heroic   \n 34  |Match ID: 7937235680 | Map Map #2|        Team Spirit | Xtreme Gaming   \n 35  |Match ID: 7937293101 | Map Map #3|        Team Spirit | Xtreme Gaming   \n 36  |Match ID: 7927665228 | Map Map #1|             Xtreme Gaming | Heroic   \n 38  |Match ID: 7928919925 | Map Map #1|          1win Team | Xtreme Gaming   \n 39  |Match ID: 7928957343 | Map Map #2|          Xtreme Gaming | 1win Team   \n 40  |Match ID: 7928115077 | Map Map #1|  Xtreme Gaming | Gaimin Gladiators   \n 42  |Match ID: 7927906150 | Map Map #1|                 1win Team | Heroic   \n 43  |Match ID: 7928964450 | Map Map #2|         Gaimin Gladiators | Heroic   \n 44  |Match ID: 7927665254 | Map Map #1|      1win Team | Gaimin Gladiators   \n 45  |Match ID: 7927711289 | Map Map #2|      Gaimin Gladiators | 1win Team   \n 47  |Match ID: 7927814402 | Map Map #2|                     Cloud9 | G2.iG   \n 50  |Match ID: 7929250556 | Map Map #2|             Cloud9 | Talon Esports   \n 52  |Match ID: 7928077736 | Map Map #1|              G2.iG | Talon Esports   \n 53  |Match ID: 7928185091 | Map Map #2|              Talon Esports | G2.iG   \n 55  |Match ID: 7927718184 | Map Map #2|     Talon Esports | Tundra Esports   \n 57  |Match ID: 7927826080 | Map Map #2|               Nouns | BetBoom Team   \n 59  |Match ID: 7929005346 | Map Map #1|                  Team Zero | Nouns   \n 60  |Match ID: 7929057445 | Map Map #2|                  Nouns | Team Zero   \n 61  |Match ID: 7929019186 | Map Map #1|        Team Falcons | BetBoom Team   \n 64  |Match ID: 7928380785 | Map Map #2|           BetBoom Team | Team Zero   \n 65  |Match ID: 7927766744 | Map Map #1|           Team Zero | Team Falcons   \n 66  |Match ID: 7927914488 | Map Map #1|               Aurora | Team Liquid   \n 67  |Match ID: 7928006446 | Map Map #2|               Team Liquid | Aurora   \n 68  |Match ID: 7929024760 | Map Map #1|                Aurora | beastcoast   \n 69  |Match ID: 7929080268 | Map Map #2|                Aurora | beastcoast   \n 70  |Match ID: 7928291791 | Map Map #1|               Team Spirit | Aurora   \n 71  |Match ID: 7928364306 | Map Map #2|               Aurora | Team Spirit   \n 72  |Match ID: 7928288761 | Map Map #1|           Team Liquid | beastcoast   \n 73  |Match ID: 7928396832 | Map Map #2|           beastcoast | Team Liquid   \n 75  |Match ID: 7929314904 | Map Map #2|          Team Spirit | Team Liquid   \n 76  |Match ID: 7927895267 | Map Map #1|           Team Spirit | beastcoast   \n 78  |Match ID: 7929316152 | Map Map #1|           Team Falcons | Team Zero   \n 80  |Match ID: 7929556224 | Map Map #1|             G2.iG | Tundra Esports   \n \n                y_true             y_pred  is_correct  pred_proba   ml_pred  \n 1       Xtreme Gaming      Xtreme Gaming        True    0.536487  0.933662  \n 2        BetBoom Team        Team Liquid       False    0.790928  0.853145  \n 3              Aurora             Aurora        True    0.516400  0.833580  \n 4           Team Zero          Team Zero        True    0.708178  0.787789  \n 6      Tundra Esports     Tundra Esports        True    0.600219  0.935970  \n 7      Tundra Esports             Heroic       False    0.878080  0.962260  \n 8              Cloud9             Cloud9        True    0.505849  0.813608  \n 9              Cloud9             Cloud9        True    0.811594  0.872554  \n 11              Nouns              Nouns        True    0.541814  0.700220  \n 12              Nouns              Nouns        True    0.842286  0.633262  \n 17             Cloud9             Cloud9        True    0.720150  0.827153  \n 19     Tundra Esports     Tundra Esports        True    0.616421  0.859146  \n 20              Nouns              Nouns        True    0.514407  0.955636  \n 21      Talon Esports      Talon Esports        True    0.505846  0.843382  \n 22          1win Team          Team Zero       False    0.775732  0.926430  \n 23          1win Team          1win Team        True    0.897804  0.871989  \n 25        Team Spirit              G2.iG       False    0.504635  0.736585  \n 26        Team Spirit        Team Spirit        True    0.659986  0.889336  \n 27       BetBoom Team       BetBoom Team        True    0.611959  0.755507  \n 28       BetBoom Team       BetBoom Team        True    0.507857  0.873678  \n 29       Team Falcons          1win Team       False    0.763960  0.907360  \n 30       Team Falcons          1win Team       False    0.635597  0.854899  \n 31             Heroic             Heroic        True    0.535842  0.602183  \n 32             Aurora             Aurora        True    0.749956  0.877328  \n 33             Aurora             Heroic       False    0.815806  0.868395  \n 34      Xtreme Gaming        Team Spirit       False    0.594229  0.835764  \n 35      Xtreme Gaming      Xtreme Gaming        True    0.648700  0.906549  \n 36      Xtreme Gaming      Xtreme Gaming        True    0.507692  0.947921  \n 38      Xtreme Gaming      Xtreme Gaming        True    0.774359  0.907538  \n 39          1win Team          1win Team        True    0.641336  0.962241  \n 40      Xtreme Gaming  Gaimin Gladiators       False    0.548113  0.893142  \n 42             Heroic          1win Team       False    0.599728  0.576498  \n 43             Heroic  Gaimin Gladiators       False    0.554837  0.599112  \n 44  Gaimin Gladiators          1win Team       False    0.706463  0.943873  \n 45  Gaimin Gladiators          1win Team       False    0.726679  0.954915  \n 47             Cloud9              G2.iG       False    0.643946  0.915763  \n 50             Cloud9      Talon Esports       False    0.840788  0.613494  \n 52              G2.iG              G2.iG        True    0.716077  0.903029  \n 53              G2.iG      Talon Esports       False    0.505776  0.925420  \n 55      Talon Esports      Talon Esports        True    0.681329  0.715671  \n 57       BetBoom Team       BetBoom Team        True    0.516273  0.869035  \n 59          Team Zero              Nouns       False    0.603319  0.870326  \n 60              Nouns              Nouns        True    0.589012  0.745453  \n 61       Team Falcons       BetBoom Team       False    0.655776  0.779810  \n 64          Team Zero          Team Zero        True    0.566486  0.954353  \n 65          Team Zero          Team Zero        True    0.719587  0.826651  \n 66        Team Liquid        Team Liquid        True    0.771219  0.912633  \n 67        Team Liquid             Aurora       False    0.670495  0.789608  \n 68             Aurora             Aurora        True    0.822926  0.932236  \n 69             Aurora             Aurora        True    0.714744  0.874877  \n 70        Team Spirit        Team Spirit        True    0.560084  0.577488  \n 71        Team Spirit             Aurora       False    0.523649  0.846564  \n 72        Team Liquid        Team Liquid        True    0.749812  0.937589  \n 73        Team Liquid         beastcoast       False    0.589287  0.939030  \n 75        Team Spirit        Team Spirit        True    0.549539  0.885924  \n 76        Team Spirit         beastcoast       False    0.628532  0.804694  \n 78       Team Falcons       Team Falcons        True    0.535537  0.879258  \n 80     Tundra Esports     Tundra Esports        True    0.857282  0.573753  ,\n 'ml_df':                              match_info                          teams  \\\n 0   |Match ID: 7930252755 | Map Map #1|  Talon Esports | Xtreme Gaming   \n 1   |Match ID: 7930304864 | Map Map #2|  Xtreme Gaming | Talon Esports   \n 2   |Match ID: 7930461959 | Map Map #2|     Team Liquid | BetBoom Team   \n 3   |Match ID: 7930893265 | Map Map #1|             Aurora | Team Zero   \n 4   |Match ID: 7930995251 | Map Map #2|             Team Zero | Aurora   \n ..                                  ...                            ...   \n 77  |Match ID: 7927995323 | Map Map #2|       Team Spirit | beastcoast   \n 78  |Match ID: 7929316152 | Map Map #1|       Team Falcons | Team Zero   \n 79  |Match ID: 7929405044 | Map Map #2|       Team Zero | Team Falcons   \n 80  |Match ID: 7929556224 | Map Map #1|         G2.iG | Tundra Esports   \n 81  |Match ID: 7929598163 | Map Map #2|         G2.iG | Tundra Esports   \n \n             y_true          y_pred  is_correct  pred_proba  \n 0    Xtreme Gaming   Talon Esports       False    0.785467  \n 1    Xtreme Gaming   Xtreme Gaming        True    0.933662  \n 2     BetBoom Team     Team Liquid       False    0.853145  \n 3           Aurora          Aurora        True    0.833580  \n 4        Team Zero       Team Zero        True    0.787789  \n ..             ...             ...         ...         ...  \n 77     Team Spirit      beastcoast       False    0.816227  \n 78    Team Falcons    Team Falcons        True    0.879258  \n 79    Team Falcons       Team Zero       False    0.938609  \n 80  Tundra Esports  Tundra Esports        True    0.573753  \n 81  Tundra Esports           G2.iG       False    0.683428  \n \n [82 rows x 6 columns],\n 'nn_df':                              match_info                          teams  \\\n 0   |Match ID: 7930252755 | Map Map #1|  Talon Esports | Xtreme Gaming   \n 1   |Match ID: 7930304864 | Map Map #2|  Xtreme Gaming | Talon Esports   \n 2   |Match ID: 7930461959 | Map Map #2|     Team Liquid | BetBoom Team   \n 3   |Match ID: 7930893265 | Map Map #1|             Aurora | Team Zero   \n 4   |Match ID: 7930995251 | Map Map #2|             Team Zero | Aurora   \n ..                                  ...                            ...   \n 77  |Match ID: 7927995323 | Map Map #2|       Team Spirit | beastcoast   \n 78  |Match ID: 7929316152 | Map Map #1|       Team Falcons | Team Zero   \n 79  |Match ID: 7929405044 | Map Map #2|       Team Zero | Team Falcons   \n 80  |Match ID: 7929556224 | Map Map #1|         G2.iG | Tundra Esports   \n 81  |Match ID: 7929598163 | Map Map #2|         G2.iG | Tundra Esports   \n \n             y_true          y_pred  is_correct  pred_proba  \n 0    Xtreme Gaming   Xtreme Gaming        True    0.557951  \n 1    Xtreme Gaming   Xtreme Gaming        True    0.536487  \n 2     BetBoom Team     Team Liquid       False    0.790928  \n 3           Aurora          Aurora        True    0.516400  \n 4        Team Zero       Team Zero        True    0.708178  \n ..             ...             ...         ...         ...  \n 77     Team Spirit     Team Spirit        True    0.544515  \n 78    Team Falcons    Team Falcons        True    0.535537  \n 79    Team Falcons    Team Falcons        True    0.507702  \n 80  Tundra Esports  Tundra Esports        True    0.857282  \n 81  Tundra Esports  Tundra Esports        True    0.601748  \n \n [82 rows x 6 columns]}"
     },
     "execution_count": 2,
     "metadata": {},
     "output_type": "execute_result"
    }
   ],
   "source": [
    "from evaluate import evaluate_combination\n",
    "import pandas as pd\n",
    "\n",
    "ti13 = pd.read_pickle('parser/ti13.pkl')\n",
    "\n",
    "phoenix_league = pd.read_pickle('parser/phoenix_league.pkl')\n",
    "\n",
    "evaluate_combination(ti13)"
   ]
  },
  {
   "cell_type": "code",
   "outputs": [],
   "source": [],
   "metadata": {
    "collapsed": false
   },
   "id": "272042f2eec479ed"
  }
 ],
 "metadata": {
  "kernelspec": {
   "display_name": "Python 3",
   "language": "python",
   "name": "python3"
  },
  "language_info": {
   "codemirror_mode": {
    "name": "ipython",
    "version": 2
   },
   "file_extension": ".py",
   "mimetype": "text/x-python",
   "name": "python",
   "nbconvert_exporter": "python",
   "pygments_lexer": "ipython2",
   "version": "2.7.6"
  }
 },
 "nbformat": 4,
 "nbformat_minor": 5
}
