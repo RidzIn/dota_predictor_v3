{
 "cells": [
  {
   "cell_type": "code",
   "execution_count": 1,
   "id": "initial_id",
   "metadata": {
    "collapsed": true,
    "ExecuteTime": {
     "end_time": "2024-09-15T20:18:53.751221Z",
     "start_time": "2024-09-15T20:18:52.409431Z"
    }
   },
   "outputs": [],
   "source": [
    "from evaluate import evaluate_tournament\n",
    "import pandas as pd\n",
    "\n",
    "ti13_with_filter = pd.read_pickle('data/ti13_with_filter.pkl')\n",
    "\n",
    "ti13_no_filter = pd.read_pickle('data/ti13_no_filter.pkl')"
   ]
  },
  {
   "cell_type": "code",
   "outputs": [
    {
     "data": {
      "text/plain": "   map_number    match_id  radiant_team  \\\n0      Map #2  7930461959   Team Liquid   \n1      Map #1  7930893265        Aurora   \n2      Map #2  7930995251     Team Zero   \n3      Map #3  7931106306        Aurora   \n4      Map #1  7931767717    beastcoast   \n..        ...         ...           ...   \n59     Map #1  7928291729     Team Zero   \n60     Map #2  7928380785  BetBoom Team   \n61     Map #1  7927766744     Team Zero   \n62     Map #1  7929024760        Aurora   \n63     Map #2  7929080268        Aurora   \n\n                                       radiant_heroes  radiant_win  \\\n0   [Mirana, Dragon Knight, Beastmaster, Dark Will...        False   \n1   [Windranger, Timbersaw, Dark Seer, Batrider, E...         True   \n2      [Windranger, Sand King, Kunkka, Lion, Phoenix]         True   \n3   [Drow Ranger, Puck, Kunkka, Snapfire, Treant P...         True   \n4   [Medusa, Kunkka, Centaur Warrunner, Batrider, ...         True   \n..                                                ...          ...   \n59  [Windranger, Earth Spirit, Kunkka, Snapfire, B...         True   \n60  [Dragon Knight, Pangolier, Timbersaw, Snapfire...        False   \n61  [Shadow Fiend, Earth Spirit, Centaur Warrunner...         True   \n62  [Mirana, Storm Spirit, Timbersaw, Batrider, Na...         True   \n63      [Mirana, Viper, Windranger, Tusk, Naga Siren]         True   \n\n       dire_team                                        dire_heroes  dire_win  \\\n0   BetBoom Team  [Alchemist, Nature's Prophet, Kunkka, Batrider...      True   \n1      Team Zero  [Shadow Fiend, Sand King, Centaur Warrunner, D...     False   \n2         Aurora  [Dragon Knight, Storm Spirit, Doom, Sniper, Tusk]     False   \n3      Team Zero  [Windranger, Earth Spirit, Bristleback, Rubick...     False   \n4   Team Falcons  [Troll Warlord, Puck, Doom, Windranger, Treant...     False   \n..           ...                                                ...       ...   \n59  BetBoom Team    [Alchemist, Puck, Primal Beast, Sniper, Jakiro]     False   \n60     Team Zero  [Mirana, Keeper of the Light, Kunkka, Shadow D...      True   \n61  Team Falcons  [Nature's Prophet, Pangolier, Doom, Snapfire, ...     False   \n62    beastcoast  [Weaver, Monkey King, Kunkka, Sniper, Crystal ...     False   \n63    beastcoast  [Dragon Knight, Zeus, Kunkka, Grimstroke, Tinker]     False   \n\n          winner  \n0   BetBoom Team  \n1         Aurora  \n2      Team Zero  \n3         Aurora  \n4     beastcoast  \n..           ...  \n59     Team Zero  \n60     Team Zero  \n61     Team Zero  \n62        Aurora  \n63        Aurora  \n\n[64 rows x 9 columns]",
      "text/html": "<div>\n<style scoped>\n    .dataframe tbody tr th:only-of-type {\n        vertical-align: middle;\n    }\n\n    .dataframe tbody tr th {\n        vertical-align: top;\n    }\n\n    .dataframe thead th {\n        text-align: right;\n    }\n</style>\n<table border=\"1\" class=\"dataframe\">\n  <thead>\n    <tr style=\"text-align: right;\">\n      <th></th>\n      <th>map_number</th>\n      <th>match_id</th>\n      <th>radiant_team</th>\n      <th>radiant_heroes</th>\n      <th>radiant_win</th>\n      <th>dire_team</th>\n      <th>dire_heroes</th>\n      <th>dire_win</th>\n      <th>winner</th>\n    </tr>\n  </thead>\n  <tbody>\n    <tr>\n      <th>0</th>\n      <td>Map #2</td>\n      <td>7930461959</td>\n      <td>Team Liquid</td>\n      <td>[Mirana, Dragon Knight, Beastmaster, Dark Will...</td>\n      <td>False</td>\n      <td>BetBoom Team</td>\n      <td>[Alchemist, Nature's Prophet, Kunkka, Batrider...</td>\n      <td>True</td>\n      <td>BetBoom Team</td>\n    </tr>\n    <tr>\n      <th>1</th>\n      <td>Map #1</td>\n      <td>7930893265</td>\n      <td>Aurora</td>\n      <td>[Windranger, Timbersaw, Dark Seer, Batrider, E...</td>\n      <td>True</td>\n      <td>Team Zero</td>\n      <td>[Shadow Fiend, Sand King, Centaur Warrunner, D...</td>\n      <td>False</td>\n      <td>Aurora</td>\n    </tr>\n    <tr>\n      <th>2</th>\n      <td>Map #2</td>\n      <td>7930995251</td>\n      <td>Team Zero</td>\n      <td>[Windranger, Sand King, Kunkka, Lion, Phoenix]</td>\n      <td>True</td>\n      <td>Aurora</td>\n      <td>[Dragon Knight, Storm Spirit, Doom, Sniper, Tusk]</td>\n      <td>False</td>\n      <td>Team Zero</td>\n    </tr>\n    <tr>\n      <th>3</th>\n      <td>Map #3</td>\n      <td>7931106306</td>\n      <td>Aurora</td>\n      <td>[Drow Ranger, Puck, Kunkka, Snapfire, Treant P...</td>\n      <td>True</td>\n      <td>Team Zero</td>\n      <td>[Windranger, Earth Spirit, Bristleback, Rubick...</td>\n      <td>False</td>\n      <td>Aurora</td>\n    </tr>\n    <tr>\n      <th>4</th>\n      <td>Map #1</td>\n      <td>7931767717</td>\n      <td>beastcoast</td>\n      <td>[Medusa, Kunkka, Centaur Warrunner, Batrider, ...</td>\n      <td>True</td>\n      <td>Team Falcons</td>\n      <td>[Troll Warlord, Puck, Doom, Windranger, Treant...</td>\n      <td>False</td>\n      <td>beastcoast</td>\n    </tr>\n    <tr>\n      <th>...</th>\n      <td>...</td>\n      <td>...</td>\n      <td>...</td>\n      <td>...</td>\n      <td>...</td>\n      <td>...</td>\n      <td>...</td>\n      <td>...</td>\n      <td>...</td>\n    </tr>\n    <tr>\n      <th>59</th>\n      <td>Map #1</td>\n      <td>7928291729</td>\n      <td>Team Zero</td>\n      <td>[Windranger, Earth Spirit, Kunkka, Snapfire, B...</td>\n      <td>True</td>\n      <td>BetBoom Team</td>\n      <td>[Alchemist, Puck, Primal Beast, Sniper, Jakiro]</td>\n      <td>False</td>\n      <td>Team Zero</td>\n    </tr>\n    <tr>\n      <th>60</th>\n      <td>Map #2</td>\n      <td>7928380785</td>\n      <td>BetBoom Team</td>\n      <td>[Dragon Knight, Pangolier, Timbersaw, Snapfire...</td>\n      <td>False</td>\n      <td>Team Zero</td>\n      <td>[Mirana, Keeper of the Light, Kunkka, Shadow D...</td>\n      <td>True</td>\n      <td>Team Zero</td>\n    </tr>\n    <tr>\n      <th>61</th>\n      <td>Map #1</td>\n      <td>7927766744</td>\n      <td>Team Zero</td>\n      <td>[Shadow Fiend, Earth Spirit, Centaur Warrunner...</td>\n      <td>True</td>\n      <td>Team Falcons</td>\n      <td>[Nature's Prophet, Pangolier, Doom, Snapfire, ...</td>\n      <td>False</td>\n      <td>Team Zero</td>\n    </tr>\n    <tr>\n      <th>62</th>\n      <td>Map #1</td>\n      <td>7929024760</td>\n      <td>Aurora</td>\n      <td>[Mirana, Storm Spirit, Timbersaw, Batrider, Na...</td>\n      <td>True</td>\n      <td>beastcoast</td>\n      <td>[Weaver, Monkey King, Kunkka, Sniper, Crystal ...</td>\n      <td>False</td>\n      <td>Aurora</td>\n    </tr>\n    <tr>\n      <th>63</th>\n      <td>Map #2</td>\n      <td>7929080268</td>\n      <td>Aurora</td>\n      <td>[Mirana, Viper, Windranger, Tusk, Naga Siren]</td>\n      <td>True</td>\n      <td>beastcoast</td>\n      <td>[Dragon Knight, Zeus, Kunkka, Grimstroke, Tinker]</td>\n      <td>False</td>\n      <td>Aurora</td>\n    </tr>\n  </tbody>\n</table>\n<p>64 rows × 9 columns</p>\n</div>"
     },
     "execution_count": 2,
     "metadata": {},
     "output_type": "execute_result"
    }
   ],
   "source": [
    "ti13_with_filter"
   ],
   "metadata": {
    "collapsed": false,
    "ExecuteTime": {
     "end_time": "2024-09-15T20:18:53.764236Z",
     "start_time": "2024-09-15T20:18:53.751221Z"
    }
   },
   "id": "1029de04cd59b1a",
   "execution_count": 2
  },
  {
   "cell_type": "code",
   "outputs": [
    {
     "data": {
      "text/plain": "    map_number    match_id       dire_team  \\\n0       Map #1  7930252755   Xtreme Gaming   \n1       Map #2  7930304864   Talon Esports   \n2       Map #2  7930461959    BetBoom Team   \n3       Map #1  7930893265       Team Zero   \n4       Map #2  7930995251          Aurora   \n..         ...         ...             ...   \n97      Map #2  7927995323      beastcoast   \n98      Map #1  7929316152       Team Zero   \n99      Map #2  7929405044    Team Falcons   \n100     Map #1  7929556224  Tundra Esports   \n101     Map #2  7929598163  Tundra Esports   \n\n                                           dire_heroes  dire_win  \\\n0    [Drow Ranger, Storm Spirit, Mars, Mirana, Naga...      True   \n1    [Windranger, Dragon Knight, Enigma, Batrider, ...     False   \n2    [Alchemist, Nature's Prophet, Kunkka, Batrider...      True   \n3    [Shadow Fiend, Sand King, Centaur Warrunner, D...     False   \n4    [Dragon Knight, Storm Spirit, Doom, Sniper, Tusk]     False   \n..                                                 ...       ...   \n97    [Lina, Monkey King, Primal Beast, Leshrac, Tusk]     False   \n98     [Windranger, Pangolier, Doom, Jakiro, Batrider]     False   \n99      [Monkey King, Puck, Doom, Rubick, Enchantress]      True   \n100   [Lina, Earth Spirit, Kunkka, Mirana, Omniknight]      True   \n101     [Luna, Invoker, Sand King, Shadow Demon, Tusk]      True   \n\n      radiant_team                                     radiant_heroes  \\\n0    Talon Esports  [Monkey King, Nature's Prophet, Doom, Lion, Un...   \n1    Xtreme Gaming  [Shadow Fiend, Puck, Centaur Warrunner, Mirana...   \n2      Team Liquid  [Mirana, Dragon Knight, Beastmaster, Dark Will...   \n3           Aurora  [Windranger, Timbersaw, Dark Seer, Batrider, E...   \n4        Team Zero     [Windranger, Sand King, Kunkka, Lion, Phoenix]   \n..             ...                                                ...   \n97     Team Spirit  [Mirana, Storm Spirit, Kunkka, Snapfire, Omnik...   \n98    Team Falcons            [Luna, Sand King, Kunkka, Sniper, Tusk]   \n99       Team Zero  [Luna, Tiny, Pangolier, Sniper, Treant Protector]   \n100          G2.iG     [Dragon Knight, Puck, Magnus, Sniper, Phoenix]   \n101          G2.iG  [Lina, Storm Spirit, Mars, Snapfire, Treant Pr...   \n\n     radiant_win          winner  \n0          False   Xtreme Gaming  \n1           True   Xtreme Gaming  \n2          False    BetBoom Team  \n3           True          Aurora  \n4           True       Team Zero  \n..           ...             ...  \n97          True     Team Spirit  \n98          True    Team Falcons  \n99         False    Team Falcons  \n100        False  Tundra Esports  \n101        False  Tundra Esports  \n\n[102 rows x 9 columns]",
      "text/html": "<div>\n<style scoped>\n    .dataframe tbody tr th:only-of-type {\n        vertical-align: middle;\n    }\n\n    .dataframe tbody tr th {\n        vertical-align: top;\n    }\n\n    .dataframe thead th {\n        text-align: right;\n    }\n</style>\n<table border=\"1\" class=\"dataframe\">\n  <thead>\n    <tr style=\"text-align: right;\">\n      <th></th>\n      <th>map_number</th>\n      <th>match_id</th>\n      <th>dire_team</th>\n      <th>dire_heroes</th>\n      <th>dire_win</th>\n      <th>radiant_team</th>\n      <th>radiant_heroes</th>\n      <th>radiant_win</th>\n      <th>winner</th>\n    </tr>\n  </thead>\n  <tbody>\n    <tr>\n      <th>0</th>\n      <td>Map #1</td>\n      <td>7930252755</td>\n      <td>Xtreme Gaming</td>\n      <td>[Drow Ranger, Storm Spirit, Mars, Mirana, Naga...</td>\n      <td>True</td>\n      <td>Talon Esports</td>\n      <td>[Monkey King, Nature's Prophet, Doom, Lion, Un...</td>\n      <td>False</td>\n      <td>Xtreme Gaming</td>\n    </tr>\n    <tr>\n      <th>1</th>\n      <td>Map #2</td>\n      <td>7930304864</td>\n      <td>Talon Esports</td>\n      <td>[Windranger, Dragon Knight, Enigma, Batrider, ...</td>\n      <td>False</td>\n      <td>Xtreme Gaming</td>\n      <td>[Shadow Fiend, Puck, Centaur Warrunner, Mirana...</td>\n      <td>True</td>\n      <td>Xtreme Gaming</td>\n    </tr>\n    <tr>\n      <th>2</th>\n      <td>Map #2</td>\n      <td>7930461959</td>\n      <td>BetBoom Team</td>\n      <td>[Alchemist, Nature's Prophet, Kunkka, Batrider...</td>\n      <td>True</td>\n      <td>Team Liquid</td>\n      <td>[Mirana, Dragon Knight, Beastmaster, Dark Will...</td>\n      <td>False</td>\n      <td>BetBoom Team</td>\n    </tr>\n    <tr>\n      <th>3</th>\n      <td>Map #1</td>\n      <td>7930893265</td>\n      <td>Team Zero</td>\n      <td>[Shadow Fiend, Sand King, Centaur Warrunner, D...</td>\n      <td>False</td>\n      <td>Aurora</td>\n      <td>[Windranger, Timbersaw, Dark Seer, Batrider, E...</td>\n      <td>True</td>\n      <td>Aurora</td>\n    </tr>\n    <tr>\n      <th>4</th>\n      <td>Map #2</td>\n      <td>7930995251</td>\n      <td>Aurora</td>\n      <td>[Dragon Knight, Storm Spirit, Doom, Sniper, Tusk]</td>\n      <td>False</td>\n      <td>Team Zero</td>\n      <td>[Windranger, Sand King, Kunkka, Lion, Phoenix]</td>\n      <td>True</td>\n      <td>Team Zero</td>\n    </tr>\n    <tr>\n      <th>...</th>\n      <td>...</td>\n      <td>...</td>\n      <td>...</td>\n      <td>...</td>\n      <td>...</td>\n      <td>...</td>\n      <td>...</td>\n      <td>...</td>\n      <td>...</td>\n    </tr>\n    <tr>\n      <th>97</th>\n      <td>Map #2</td>\n      <td>7927995323</td>\n      <td>beastcoast</td>\n      <td>[Lina, Monkey King, Primal Beast, Leshrac, Tusk]</td>\n      <td>False</td>\n      <td>Team Spirit</td>\n      <td>[Mirana, Storm Spirit, Kunkka, Snapfire, Omnik...</td>\n      <td>True</td>\n      <td>Team Spirit</td>\n    </tr>\n    <tr>\n      <th>98</th>\n      <td>Map #1</td>\n      <td>7929316152</td>\n      <td>Team Zero</td>\n      <td>[Windranger, Pangolier, Doom, Jakiro, Batrider]</td>\n      <td>False</td>\n      <td>Team Falcons</td>\n      <td>[Luna, Sand King, Kunkka, Sniper, Tusk]</td>\n      <td>True</td>\n      <td>Team Falcons</td>\n    </tr>\n    <tr>\n      <th>99</th>\n      <td>Map #2</td>\n      <td>7929405044</td>\n      <td>Team Falcons</td>\n      <td>[Monkey King, Puck, Doom, Rubick, Enchantress]</td>\n      <td>True</td>\n      <td>Team Zero</td>\n      <td>[Luna, Tiny, Pangolier, Sniper, Treant Protector]</td>\n      <td>False</td>\n      <td>Team Falcons</td>\n    </tr>\n    <tr>\n      <th>100</th>\n      <td>Map #1</td>\n      <td>7929556224</td>\n      <td>Tundra Esports</td>\n      <td>[Lina, Earth Spirit, Kunkka, Mirana, Omniknight]</td>\n      <td>True</td>\n      <td>G2.iG</td>\n      <td>[Dragon Knight, Puck, Magnus, Sniper, Phoenix]</td>\n      <td>False</td>\n      <td>Tundra Esports</td>\n    </tr>\n    <tr>\n      <th>101</th>\n      <td>Map #2</td>\n      <td>7929598163</td>\n      <td>Tundra Esports</td>\n      <td>[Luna, Invoker, Sand King, Shadow Demon, Tusk]</td>\n      <td>True</td>\n      <td>G2.iG</td>\n      <td>[Lina, Storm Spirit, Mars, Snapfire, Treant Pr...</td>\n      <td>False</td>\n      <td>Tundra Esports</td>\n    </tr>\n  </tbody>\n</table>\n<p>102 rows × 9 columns</p>\n</div>"
     },
     "execution_count": 3,
     "metadata": {},
     "output_type": "execute_result"
    }
   ],
   "source": [
    "ti13_no_filter"
   ],
   "metadata": {
    "collapsed": false,
    "ExecuteTime": {
     "end_time": "2024-09-15T20:18:53.772932Z",
     "start_time": "2024-09-15T20:18:53.764236Z"
    }
   },
   "id": "b30dbfa440fa60b6",
   "execution_count": 3
  },
  {
   "cell_type": "code",
   "outputs": [
    {
     "name": "stdout",
     "output_type": "stream",
     "text": [
      "Prediction_method: NN\n",
      "Accuracy: 62.50% | Right: 40 | Wrong: 24\n",
      "-------------------------------\n"
     ]
    },
    {
     "data": {
      "text/plain": "                             match_info                       teams  \\\n0   |Match ID: 7930461959 | Map Map #2|  Team Liquid | BetBoom Team   \n1   |Match ID: 7930893265 | Map Map #1|          Aurora | Team Zero   \n2   |Match ID: 7930995251 | Map Map #2|          Team Zero | Aurora   \n3   |Match ID: 7931106306 | Map Map #3|          Aurora | Team Zero   \n4   |Match ID: 7931767717 | Map Map #1|   beastcoast | Team Falcons   \n..                                  ...                         ...   \n59  |Match ID: 7928291729 | Map Map #1|    Team Zero | BetBoom Team   \n60  |Match ID: 7928380785 | Map Map #2|    BetBoom Team | Team Zero   \n61  |Match ID: 7927766744 | Map Map #1|    Team Zero | Team Falcons   \n62  |Match ID: 7929024760 | Map Map #1|         Aurora | beastcoast   \n63  |Match ID: 7929080268 | Map Map #2|         Aurora | beastcoast   \n\n          y_true        y_pred  is_correct  pred_proba  \n0   BetBoom Team   Team Liquid       False    0.790928  \n1         Aurora        Aurora        True    0.516400  \n2      Team Zero     Team Zero        True    0.708178  \n3         Aurora     Team Zero       False    0.813455  \n4     beastcoast  Team Falcons       False    0.666714  \n..           ...           ...         ...         ...  \n59     Team Zero     Team Zero        True    0.561857  \n60     Team Zero     Team Zero        True    0.566486  \n61     Team Zero     Team Zero        True    0.719587  \n62        Aurora        Aurora        True    0.822926  \n63        Aurora        Aurora        True    0.714744  \n\n[64 rows x 6 columns]",
      "text/html": "<div>\n<style scoped>\n    .dataframe tbody tr th:only-of-type {\n        vertical-align: middle;\n    }\n\n    .dataframe tbody tr th {\n        vertical-align: top;\n    }\n\n    .dataframe thead th {\n        text-align: right;\n    }\n</style>\n<table border=\"1\" class=\"dataframe\">\n  <thead>\n    <tr style=\"text-align: right;\">\n      <th></th>\n      <th>match_info</th>\n      <th>teams</th>\n      <th>y_true</th>\n      <th>y_pred</th>\n      <th>is_correct</th>\n      <th>pred_proba</th>\n    </tr>\n  </thead>\n  <tbody>\n    <tr>\n      <th>0</th>\n      <td>|Match ID: 7930461959 | Map Map #2|</td>\n      <td>Team Liquid | BetBoom Team</td>\n      <td>BetBoom Team</td>\n      <td>Team Liquid</td>\n      <td>False</td>\n      <td>0.790928</td>\n    </tr>\n    <tr>\n      <th>1</th>\n      <td>|Match ID: 7930893265 | Map Map #1|</td>\n      <td>Aurora | Team Zero</td>\n      <td>Aurora</td>\n      <td>Aurora</td>\n      <td>True</td>\n      <td>0.516400</td>\n    </tr>\n    <tr>\n      <th>2</th>\n      <td>|Match ID: 7930995251 | Map Map #2|</td>\n      <td>Team Zero | Aurora</td>\n      <td>Team Zero</td>\n      <td>Team Zero</td>\n      <td>True</td>\n      <td>0.708178</td>\n    </tr>\n    <tr>\n      <th>3</th>\n      <td>|Match ID: 7931106306 | Map Map #3|</td>\n      <td>Aurora | Team Zero</td>\n      <td>Aurora</td>\n      <td>Team Zero</td>\n      <td>False</td>\n      <td>0.813455</td>\n    </tr>\n    <tr>\n      <th>4</th>\n      <td>|Match ID: 7931767717 | Map Map #1|</td>\n      <td>beastcoast | Team Falcons</td>\n      <td>beastcoast</td>\n      <td>Team Falcons</td>\n      <td>False</td>\n      <td>0.666714</td>\n    </tr>\n    <tr>\n      <th>...</th>\n      <td>...</td>\n      <td>...</td>\n      <td>...</td>\n      <td>...</td>\n      <td>...</td>\n      <td>...</td>\n    </tr>\n    <tr>\n      <th>59</th>\n      <td>|Match ID: 7928291729 | Map Map #1|</td>\n      <td>Team Zero | BetBoom Team</td>\n      <td>Team Zero</td>\n      <td>Team Zero</td>\n      <td>True</td>\n      <td>0.561857</td>\n    </tr>\n    <tr>\n      <th>60</th>\n      <td>|Match ID: 7928380785 | Map Map #2|</td>\n      <td>BetBoom Team | Team Zero</td>\n      <td>Team Zero</td>\n      <td>Team Zero</td>\n      <td>True</td>\n      <td>0.566486</td>\n    </tr>\n    <tr>\n      <th>61</th>\n      <td>|Match ID: 7927766744 | Map Map #1|</td>\n      <td>Team Zero | Team Falcons</td>\n      <td>Team Zero</td>\n      <td>Team Zero</td>\n      <td>True</td>\n      <td>0.719587</td>\n    </tr>\n    <tr>\n      <th>62</th>\n      <td>|Match ID: 7929024760 | Map Map #1|</td>\n      <td>Aurora | beastcoast</td>\n      <td>Aurora</td>\n      <td>Aurora</td>\n      <td>True</td>\n      <td>0.822926</td>\n    </tr>\n    <tr>\n      <th>63</th>\n      <td>|Match ID: 7929080268 | Map Map #2|</td>\n      <td>Aurora | beastcoast</td>\n      <td>Aurora</td>\n      <td>Aurora</td>\n      <td>True</td>\n      <td>0.714744</td>\n    </tr>\n  </tbody>\n</table>\n<p>64 rows × 6 columns</p>\n</div>"
     },
     "execution_count": 4,
     "metadata": {},
     "output_type": "execute_result"
    }
   ],
   "source": [
    "evaluate_tournament(ti13_with_filter, 0.50)"
   ],
   "metadata": {
    "collapsed": false,
    "ExecuteTime": {
     "end_time": "2024-09-15T20:22:11.469937Z",
     "start_time": "2024-09-15T20:18:54.848417Z"
    }
   },
   "id": "4744bb92e0fb2023",
   "execution_count": 4
  },
  {
   "cell_type": "code",
   "outputs": [
    {
     "name": "stdout",
     "output_type": "stream",
     "text": [
      "Prediction_method: NN\n",
      "Accuracy: 59.80% | Right: 61 | Wrong: 41\n",
      "-------------------------------\n"
     ]
    },
    {
     "data": {
      "text/plain": "                              match_info                          teams  \\\n0    |Match ID: 7930252755 | Map Map #1|  Talon Esports | Xtreme Gaming   \n1    |Match ID: 7930304864 | Map Map #2|  Xtreme Gaming | Talon Esports   \n2    |Match ID: 7930461959 | Map Map #2|     Team Liquid | BetBoom Team   \n3    |Match ID: 7930893265 | Map Map #1|             Aurora | Team Zero   \n4    |Match ID: 7930995251 | Map Map #2|             Team Zero | Aurora   \n..                                   ...                            ...   \n97   |Match ID: 7927995323 | Map Map #2|       Team Spirit | beastcoast   \n98   |Match ID: 7929316152 | Map Map #1|       Team Falcons | Team Zero   \n99   |Match ID: 7929405044 | Map Map #2|       Team Zero | Team Falcons   \n100  |Match ID: 7929556224 | Map Map #1|         G2.iG | Tundra Esports   \n101  |Match ID: 7929598163 | Map Map #2|         G2.iG | Tundra Esports   \n\n             y_true          y_pred  is_correct  pred_proba  \n0     Xtreme Gaming   Xtreme Gaming        True    0.557951  \n1     Xtreme Gaming   Xtreme Gaming        True    0.536487  \n2      BetBoom Team     Team Liquid       False    0.790928  \n3            Aurora          Aurora        True    0.516400  \n4         Team Zero       Team Zero        True    0.708178  \n..              ...             ...         ...         ...  \n97      Team Spirit     Team Spirit        True    0.544515  \n98     Team Falcons    Team Falcons        True    0.535537  \n99     Team Falcons    Team Falcons        True    0.507702  \n100  Tundra Esports  Tundra Esports        True    0.857282  \n101  Tundra Esports  Tundra Esports        True    0.601748  \n\n[102 rows x 6 columns]",
      "text/html": "<div>\n<style scoped>\n    .dataframe tbody tr th:only-of-type {\n        vertical-align: middle;\n    }\n\n    .dataframe tbody tr th {\n        vertical-align: top;\n    }\n\n    .dataframe thead th {\n        text-align: right;\n    }\n</style>\n<table border=\"1\" class=\"dataframe\">\n  <thead>\n    <tr style=\"text-align: right;\">\n      <th></th>\n      <th>match_info</th>\n      <th>teams</th>\n      <th>y_true</th>\n      <th>y_pred</th>\n      <th>is_correct</th>\n      <th>pred_proba</th>\n    </tr>\n  </thead>\n  <tbody>\n    <tr>\n      <th>0</th>\n      <td>|Match ID: 7930252755 | Map Map #1|</td>\n      <td>Talon Esports | Xtreme Gaming</td>\n      <td>Xtreme Gaming</td>\n      <td>Xtreme Gaming</td>\n      <td>True</td>\n      <td>0.557951</td>\n    </tr>\n    <tr>\n      <th>1</th>\n      <td>|Match ID: 7930304864 | Map Map #2|</td>\n      <td>Xtreme Gaming | Talon Esports</td>\n      <td>Xtreme Gaming</td>\n      <td>Xtreme Gaming</td>\n      <td>True</td>\n      <td>0.536487</td>\n    </tr>\n    <tr>\n      <th>2</th>\n      <td>|Match ID: 7930461959 | Map Map #2|</td>\n      <td>Team Liquid | BetBoom Team</td>\n      <td>BetBoom Team</td>\n      <td>Team Liquid</td>\n      <td>False</td>\n      <td>0.790928</td>\n    </tr>\n    <tr>\n      <th>3</th>\n      <td>|Match ID: 7930893265 | Map Map #1|</td>\n      <td>Aurora | Team Zero</td>\n      <td>Aurora</td>\n      <td>Aurora</td>\n      <td>True</td>\n      <td>0.516400</td>\n    </tr>\n    <tr>\n      <th>4</th>\n      <td>|Match ID: 7930995251 | Map Map #2|</td>\n      <td>Team Zero | Aurora</td>\n      <td>Team Zero</td>\n      <td>Team Zero</td>\n      <td>True</td>\n      <td>0.708178</td>\n    </tr>\n    <tr>\n      <th>...</th>\n      <td>...</td>\n      <td>...</td>\n      <td>...</td>\n      <td>...</td>\n      <td>...</td>\n      <td>...</td>\n    </tr>\n    <tr>\n      <th>97</th>\n      <td>|Match ID: 7927995323 | Map Map #2|</td>\n      <td>Team Spirit | beastcoast</td>\n      <td>Team Spirit</td>\n      <td>Team Spirit</td>\n      <td>True</td>\n      <td>0.544515</td>\n    </tr>\n    <tr>\n      <th>98</th>\n      <td>|Match ID: 7929316152 | Map Map #1|</td>\n      <td>Team Falcons | Team Zero</td>\n      <td>Team Falcons</td>\n      <td>Team Falcons</td>\n      <td>True</td>\n      <td>0.535537</td>\n    </tr>\n    <tr>\n      <th>99</th>\n      <td>|Match ID: 7929405044 | Map Map #2|</td>\n      <td>Team Zero | Team Falcons</td>\n      <td>Team Falcons</td>\n      <td>Team Falcons</td>\n      <td>True</td>\n      <td>0.507702</td>\n    </tr>\n    <tr>\n      <th>100</th>\n      <td>|Match ID: 7929556224 | Map Map #1|</td>\n      <td>G2.iG | Tundra Esports</td>\n      <td>Tundra Esports</td>\n      <td>Tundra Esports</td>\n      <td>True</td>\n      <td>0.857282</td>\n    </tr>\n    <tr>\n      <th>101</th>\n      <td>|Match ID: 7929598163 | Map Map #2|</td>\n      <td>G2.iG | Tundra Esports</td>\n      <td>Tundra Esports</td>\n      <td>Tundra Esports</td>\n      <td>True</td>\n      <td>0.601748</td>\n    </tr>\n  </tbody>\n</table>\n<p>102 rows × 6 columns</p>\n</div>"
     },
     "execution_count": 5,
     "metadata": {},
     "output_type": "execute_result"
    }
   ],
   "source": [
    "evaluate_tournament(ti13_no_filter, 0.50)"
   ],
   "metadata": {
    "collapsed": false,
    "ExecuteTime": {
     "end_time": "2024-09-15T20:27:20.005581Z",
     "start_time": "2024-09-15T20:22:11.470936Z"
    }
   },
   "id": "6a2f2e72983cf1e0",
   "execution_count": 5
  },
  {
   "cell_type": "code",
   "outputs": [],
   "source": [],
   "metadata": {
    "collapsed": false
   },
   "id": "a13f0f43a332bf7e"
  }
 ],
 "metadata": {
  "kernelspec": {
   "display_name": "Python 3",
   "language": "python",
   "name": "python3"
  },
  "language_info": {
   "codemirror_mode": {
    "name": "ipython",
    "version": 2
   },
   "file_extension": ".py",
   "mimetype": "text/x-python",
   "name": "python",
   "nbconvert_exporter": "python",
   "pygments_lexer": "ipython2",
   "version": "2.7.6"
  }
 },
 "nbformat": 4,
 "nbformat_minor": 5
}
