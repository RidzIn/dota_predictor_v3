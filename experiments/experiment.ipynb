{
 "cells": [
  {
   "cell_type": "code",
   "execution_count": 1,
   "id": "initial_id",
   "metadata": {
    "collapsed": true,
    "ExecuteTime": {
     "end_time": "2024-09-10T12:36:10.579433Z",
     "start_time": "2024-09-10T12:36:10.262868Z"
    }
   },
   "outputs": [
    {
     "data": {
      "text/plain": "     map_number    match_id            dire_team  \\\n0        Map #1  6130055039           Team Aster   \n1        Map #2  6130109755          Vici Gaming   \n2        Map #1  6130182512  Royal Never Give Up   \n3        Map #2  6130260292              PSG.LGD   \n4        Map #1  6131631709  Royal Never Give Up   \n...         ...         ...                  ...   \n4586     Map #2  7870204076                Nouns   \n4587     Map #3  7870252608                Nouns   \n4588     Map #1  7934129660    Gaimin Gladiators   \n4589     Map #2  7934252472                Nouns   \n4590     Map #3  7934359821                Nouns   \n\n                                            dire_heroes  dire_win  \\\n0           [Luna, Puck, Timbersaw, Earth Spirit, Lion]     False   \n1     [Terrorblade, Dragon Knight, Doom, Brewmaster,...      True   \n2     [Arc Warden, Viper, Timbersaw, Windranger, Bre...      True   \n3     [Arc Warden, Bristleback, Pangolier, Keeper of...     False   \n4     [Arc Warden, Razor, Timbersaw, Windranger, Bre...     False   \n...                                                 ...       ...   \n4586  [Slark, Ember Spirit, Beastmaster, Rubick, Sna...     False   \n4587  [Dragon Knight, Ember Spirit, Dark Seer, Jakir...      True   \n4588        [Razor, Invoker, Broodmother, Snapfire, Io]     False   \n4589    [Weaver, Storm Spirit, Doom, Hoodwink, Phoenix]     False   \n4590  [Alchemist, Dragon Knight, Beastmaster, Windra...     False   \n\n             radiant_team                                     radiant_heroes  \\\n0             Vici Gaming  [Juggernaut, Void Spirit, Tidehunter, Shadow S...   \n1              Team Aster  [Phantom Lancer, Templar Assassin, Dark Seer, ...   \n2                 PSG.LGD  [Luna, Shadow Fiend, Tidehunter, Shadow Demon,...   \n3     Royal Never Give Up  [Morphling, Invoker, Sand King, Hoodwink, Face...   \n4         Invictus Gaming  [Monkey King, Templar Assassin, Night Stalker,...   \n...                   ...                                                ...   \n4586         BOOM Esports  [Gyrocopter, Dragon Knight, Brewmaster, Nyx As...   \n4587         BOOM Esports  [Templar Assassin, Mars, Weaver, Hoodwink, Clo...   \n4588                Nouns  [Mirana, Storm Spirit, Doom, Hoodwink, Treant ...   \n4589    Gaimin Gladiators  [Windranger, Void Spirit, Broodmother, Sniper,...   \n4590    Gaimin Gladiators  [Nature's Prophet, Monkey King, Centaur Warrun...   \n\n      radiant_win   winner  \n0            True  Radiant  \n1           False     Dire  \n2           False     Dire  \n3            True  Radiant  \n4            True  Radiant  \n...           ...      ...  \n4586         True  Radiant  \n4587        False     Dire  \n4588         True  Radiant  \n4589         True  Radiant  \n4590         True  Radiant  \n\n[4591 rows x 9 columns]",
      "text/html": "<div>\n<style scoped>\n    .dataframe tbody tr th:only-of-type {\n        vertical-align: middle;\n    }\n\n    .dataframe tbody tr th {\n        vertical-align: top;\n    }\n\n    .dataframe thead th {\n        text-align: right;\n    }\n</style>\n<table border=\"1\" class=\"dataframe\">\n  <thead>\n    <tr style=\"text-align: right;\">\n      <th></th>\n      <th>map_number</th>\n      <th>match_id</th>\n      <th>dire_team</th>\n      <th>dire_heroes</th>\n      <th>dire_win</th>\n      <th>radiant_team</th>\n      <th>radiant_heroes</th>\n      <th>radiant_win</th>\n      <th>winner</th>\n    </tr>\n  </thead>\n  <tbody>\n    <tr>\n      <th>0</th>\n      <td>Map #1</td>\n      <td>6130055039</td>\n      <td>Team Aster</td>\n      <td>[Luna, Puck, Timbersaw, Earth Spirit, Lion]</td>\n      <td>False</td>\n      <td>Vici Gaming</td>\n      <td>[Juggernaut, Void Spirit, Tidehunter, Shadow S...</td>\n      <td>True</td>\n      <td>Radiant</td>\n    </tr>\n    <tr>\n      <th>1</th>\n      <td>Map #2</td>\n      <td>6130109755</td>\n      <td>Vici Gaming</td>\n      <td>[Terrorblade, Dragon Knight, Doom, Brewmaster,...</td>\n      <td>True</td>\n      <td>Team Aster</td>\n      <td>[Phantom Lancer, Templar Assassin, Dark Seer, ...</td>\n      <td>False</td>\n      <td>Dire</td>\n    </tr>\n    <tr>\n      <th>2</th>\n      <td>Map #1</td>\n      <td>6130182512</td>\n      <td>Royal Never Give Up</td>\n      <td>[Arc Warden, Viper, Timbersaw, Windranger, Bre...</td>\n      <td>True</td>\n      <td>PSG.LGD</td>\n      <td>[Luna, Shadow Fiend, Tidehunter, Shadow Demon,...</td>\n      <td>False</td>\n      <td>Dire</td>\n    </tr>\n    <tr>\n      <th>3</th>\n      <td>Map #2</td>\n      <td>6130260292</td>\n      <td>PSG.LGD</td>\n      <td>[Arc Warden, Bristleback, Pangolier, Keeper of...</td>\n      <td>False</td>\n      <td>Royal Never Give Up</td>\n      <td>[Morphling, Invoker, Sand King, Hoodwink, Face...</td>\n      <td>True</td>\n      <td>Radiant</td>\n    </tr>\n    <tr>\n      <th>4</th>\n      <td>Map #1</td>\n      <td>6131631709</td>\n      <td>Royal Never Give Up</td>\n      <td>[Arc Warden, Razor, Timbersaw, Windranger, Bre...</td>\n      <td>False</td>\n      <td>Invictus Gaming</td>\n      <td>[Monkey King, Templar Assassin, Night Stalker,...</td>\n      <td>True</td>\n      <td>Radiant</td>\n    </tr>\n    <tr>\n      <th>...</th>\n      <td>...</td>\n      <td>...</td>\n      <td>...</td>\n      <td>...</td>\n      <td>...</td>\n      <td>...</td>\n      <td>...</td>\n      <td>...</td>\n      <td>...</td>\n    </tr>\n    <tr>\n      <th>4586</th>\n      <td>Map #2</td>\n      <td>7870204076</td>\n      <td>Nouns</td>\n      <td>[Slark, Ember Spirit, Beastmaster, Rubick, Sna...</td>\n      <td>False</td>\n      <td>BOOM Esports</td>\n      <td>[Gyrocopter, Dragon Knight, Brewmaster, Nyx As...</td>\n      <td>True</td>\n      <td>Radiant</td>\n    </tr>\n    <tr>\n      <th>4587</th>\n      <td>Map #3</td>\n      <td>7870252608</td>\n      <td>Nouns</td>\n      <td>[Dragon Knight, Ember Spirit, Dark Seer, Jakir...</td>\n      <td>True</td>\n      <td>BOOM Esports</td>\n      <td>[Templar Assassin, Mars, Weaver, Hoodwink, Clo...</td>\n      <td>False</td>\n      <td>Dire</td>\n    </tr>\n    <tr>\n      <th>4588</th>\n      <td>Map #1</td>\n      <td>7934129660</td>\n      <td>Gaimin Gladiators</td>\n      <td>[Razor, Invoker, Broodmother, Snapfire, Io]</td>\n      <td>False</td>\n      <td>Nouns</td>\n      <td>[Mirana, Storm Spirit, Doom, Hoodwink, Treant ...</td>\n      <td>True</td>\n      <td>Radiant</td>\n    </tr>\n    <tr>\n      <th>4589</th>\n      <td>Map #2</td>\n      <td>7934252472</td>\n      <td>Nouns</td>\n      <td>[Weaver, Storm Spirit, Doom, Hoodwink, Phoenix]</td>\n      <td>False</td>\n      <td>Gaimin Gladiators</td>\n      <td>[Windranger, Void Spirit, Broodmother, Sniper,...</td>\n      <td>True</td>\n      <td>Radiant</td>\n    </tr>\n    <tr>\n      <th>4590</th>\n      <td>Map #3</td>\n      <td>7934359821</td>\n      <td>Nouns</td>\n      <td>[Alchemist, Dragon Knight, Beastmaster, Windra...</td>\n      <td>False</td>\n      <td>Gaimin Gladiators</td>\n      <td>[Nature's Prophet, Monkey King, Centaur Warrun...</td>\n      <td>True</td>\n      <td>Radiant</td>\n    </tr>\n  </tbody>\n</table>\n<p>4591 rows × 9 columns</p>\n</div>"
     },
     "execution_count": 1,
     "metadata": {},
     "output_type": "execute_result"
    }
   ],
   "source": [
    "import pandas as pd \n",
    "\n",
    "df = pd.read_pickle(\"data/matches.pkl\")\n",
    "df"
   ]
  },
  {
   "cell_type": "code",
   "outputs": [],
   "source": [
    "import json\n",
    "import pandas as pd\n",
    "\n",
    "with open('data/winrates.json') as file:\n",
    "    winrates = json.load(file)\n",
    "\n",
    "\n",
    "def get_feature_vec(winrates: dict, dire_pick: list, radiant_pick: list) -> list:\n",
    "    dire_pick_synergy_features = get_synergy_features(winrates, dire_pick)\n",
    "    radiant_pick_synergy_features = get_synergy_features(winrates, radiant_pick)\n",
    "    dire_pick_duel_features, radiant_pick_duel_features = get_duel_features(\n",
    "        winrates, dire_pick, radiant_pick\n",
    "    )\n",
    "\n",
    "    return (\n",
    "        dire_pick_synergy_features\n",
    "        + dire_pick_duel_features\n",
    "        + radiant_pick_synergy_features\n",
    "        + radiant_pick_duel_features\n",
    "    )\n",
    "\n",
    "\n",
    "def get_synergy_features(winrates: dict, pick: list) -> list:\n",
    "    pick_copy = pick[::]\n",
    "    synergy_features = []\n",
    "    for h1 in pick:\n",
    "        for h2 in pick_copy:\n",
    "            synergy_features.append(winrates[h1][h2][\"with_winrate\"])\n",
    "        del pick_copy[0]\n",
    "    return synergy_features\n",
    "\n",
    "\n",
    "def get_duel_features(winrates: dict, dire_pick: list, radiant_pick: list) -> tuple:\n",
    "    dire_duel_features, radiant_duel_features = [], []\n",
    "    for h1 in dire_pick:\n",
    "        for h2 in radiant_pick:\n",
    "            against_winrate = winrates[h1][h2].get(\"against_winrate\", 0)\n",
    "            dire_duel_features.append(against_winrate)\n",
    "            radiant_duel_features.append(1 - against_winrate)\n",
    "    return dire_duel_features, radiant_duel_features\n"
   ],
   "metadata": {
    "collapsed": false,
    "ExecuteTime": {
     "end_time": "2024-09-10T00:01:09.937548Z",
     "start_time": "2024-09-10T00:01:09.922851Z"
    }
   },
   "id": "d771800408119f5b",
   "execution_count": 2
  },
  {
   "cell_type": "code",
   "outputs": [
    {
     "data": {
      "text/plain": "[0.48,\n 0.8,\n 0.5,\n 0.5,\n 0.33,\n 0.42,\n 0.5,\n 0.33,\n 0.0,\n 0.52,\n 0.5,\n 0.5,\n 0.5,\n 0.5,\n 0.5,\n 0.5,\n 0.2,\n 0.6,\n 0.5,\n 0.33,\n 0.5,\n 0.17,\n 0.0,\n 0.5,\n 0.33,\n 0.5,\n 0.25,\n 0.33,\n 0.5,\n 0.5,\n 0.5,\n 0.5,\n 0.5,\n 0.5,\n 0.5,\n 0.5,\n 0.75,\n 0.43,\n 0.5,\n 0.33,\n 0.56,\n 0.5,\n 0.5,\n 0.5,\n 0.5,\n 0.61,\n 0.56,\n 0.5,\n 0.5,\n 0.55,\n 0.5,\n 0.5,\n 0.43,\n 0.5,\n 0.63,\n 0.5,\n 0.8,\n 0.4,\n 0.5,\n 0.6699999999999999,\n 0.5,\n 0.83,\n 1.0,\n 0.5,\n 0.6699999999999999,\n 0.5,\n 0.75,\n 0.6699999999999999,\n 0.5,\n 0.5,\n 0.5,\n 0.5,\n 0.5,\n 0.5,\n 0.5,\n 0.5,\n 0.25,\n 0.5700000000000001,\n 0.5,\n 0.6699999999999999]"
     },
     "execution_count": 4,
     "metadata": {},
     "output_type": "execute_result"
    }
   ],
   "source": [
    "get_feature_vec(winrates, df.iloc[0]['dire_heroes'], df.iloc[0]['radiant_heroes'])\n"
   ],
   "metadata": {
    "collapsed": false,
    "ExecuteTime": {
     "end_time": "2024-09-10T00:01:24.319715Z",
     "start_time": "2024-09-10T00:01:24.312370Z"
    }
   },
   "id": "d8e854345cb118c8",
   "execution_count": 4
  },
  {
   "cell_type": "code",
   "outputs": [
    {
     "data": {
      "text/plain": "((220, 2), (74, 2), (220,), (74,))"
     },
     "execution_count": 7,
     "metadata": {},
     "output_type": "execute_result"
    }
   ],
   "source": [
    "from sklearn.model_selection import train_test_split\n",
    "\n",
    "X = df[['dire_heroes', 'radiant_heroes']]\n",
    "y = df['dire_win']\n",
    "X_train, X_test, y_train, y_test = train_test_split(X, y, test_size=0.2)\n",
    "X_train.shape, X_test.shape, y_train.shape, y_test.shape"
   ],
   "metadata": {
    "collapsed": false,
    "ExecuteTime": {
     "end_time": "2024-09-10T00:09:44.807491Z",
     "start_time": "2024-09-10T00:09:44.797250Z"
    }
   },
   "id": "faab56110d547fd8",
   "execution_count": 7
  },
  {
   "cell_type": "code",
   "outputs": [
    {
     "name": "stdout",
     "output_type": "stream",
     "text": [
      "Train DataFrame shape: (232, 9)\n",
      "Test DataFrame shape: (59, 9)\n"
     ]
    }
   ],
   "source": [
    "import numpy as np\n",
    "\n",
    "with open('data/winrates.json') as file:\n",
    "    winrates_dict = json.load(file)\n",
    "    \n",
    "    \n",
    "def train_test_dataset(matches_dataset):\n",
    "    filtered_dataset = matches_dataset[(matches_dataset['dire_heroes'].apply(len) > 0) & (matches_dataset['radiant_heroes'].apply(len) > 0)]\n",
    "    \n",
    "    train_df, test_df = train_test_split(filtered_dataset, test_size=0.2)\n",
    "    \n",
    "    print(f\"Train DataFrame shape: {train_df.shape}\")\n",
    "    print(f\"Test DataFrame shape: {test_df.shape}\")\n",
    "    \n",
    "    train_df.to_pickle('data/train_df.pkl')\n",
    "    test_df.to_pickle('data/test_df.pkl')\n",
    "    \n",
    "    return train_df, test_df\n",
    "\n",
    "df = pd.read_pickle('data/matches.pkl')\n",
    "\n",
    "train_df, test_df = train_test_dataset(matches_dataset=df)"
   ],
   "metadata": {
    "collapsed": false,
    "ExecuteTime": {
     "end_time": "2024-09-10T00:41:25.144628Z",
     "start_time": "2024-09-10T00:41:25.125446Z"
    }
   },
   "id": "5959e1197508d257",
   "execution_count": 13
  },
  {
   "cell_type": "code",
   "outputs": [],
   "source": [
    "import requests\n",
    "import json\n",
    "\n",
    "with open(\"data/heroes_decoder.json\") as file:\n",
    "    heroes_id_names = json.load(file)\n",
    "\n",
    "\n",
    "def get_match_picks(match_id):\n",
    "    response = requests.get(f'https://api.opendota.com/api/matches/{match_id}')\n",
    "    if 'Internal Server Error' in response.text:\n",
    "        raise ValueError(\"Open Dota crushed, refresh the page and try Test Yourself page\")\n",
    "    radiant_picks = [pick[\"hero_id\"] for pick in response.json()['picks_bans'] if pick[\"is_pick\"] and pick[\"team\"] == 0]\n",
    "    dire_picks = [pick[\"hero_id\"] for pick in response.json()['picks_bans'] if pick[\"is_pick\"] and pick[\"team\"] == 1]\n",
    "\n",
    "    radiant_picks_decode = []\n",
    "    dire_picks_decode = []\n",
    "    for id in radiant_picks:\n",
    "        for key, value in heroes_id_names.items():\n",
    "            if int(key) == int(id):\n",
    "                radiant_picks_decode.append(value)\n",
    "                break\n",
    "\n",
    "    for id in dire_picks:\n",
    "        for key, value in heroes_id_names.items():\n",
    "            if int(key) == int(id):\n",
    "                dire_picks_decode.append(value)\n",
    "                break\n",
    "\n",
    "    return {\"dire\": dire_picks_decode, 'radiant': radiant_picks_decode,\n",
    "            \"dire_team\": response.json()['dire_team']['name'], 'radiant_team': response.json()['radiant_team']['name']}"
   ],
   "metadata": {
    "collapsed": false,
    "ExecuteTime": {
     "end_time": "2024-09-10T00:54:36.782250Z",
     "start_time": "2024-09-10T00:54:36.766916Z"
    }
   },
   "id": "7e4018f778ce2cf",
   "execution_count": 15
  },
  {
   "cell_type": "code",
   "outputs": [
    {
     "data": {
      "text/plain": "{'dire': ['Tusk', 'Invoker', 'Luna', 'Batrider', 'Beastmaster'],\n 'radiant': ['Kunkka',\n  'Treant Protector',\n  'Mirana',\n  'Earth Spirit',\n  'Dark Willow'],\n 'dire_team': '1w Team',\n 'radiant_team': 'Team Zero'}"
     },
     "execution_count": 16,
     "metadata": {},
     "output_type": "execute_result"
    }
   ],
   "source": [
    "get_match_picks(\"7935234871\")"
   ],
   "metadata": {
    "collapsed": false,
    "ExecuteTime": {
     "end_time": "2024-09-10T00:54:53.019774Z",
     "start_time": "2024-09-10T00:54:52.307306Z"
    }
   },
   "id": "dea0410e3e8efe92",
   "execution_count": 16
  },
  {
   "cell_type": "code",
   "outputs": [],
   "source": [
    "from autogluon.tabular import TabularDataset, TabularPredictor\n",
    "\n",
    "data_root = 'data'\n",
    "train_data = TabularDataset(data_root + 'train_features.csv')\n",
    "test_data = TabularDataset(data_root + 'test_features.csv')\n",
    "\n",
    "predictor = TabularPredictor(label='class').fit(train_data=train_data)\n",
    "predictions = predictor.predict(test_data)"
   ],
   "metadata": {
    "collapsed": false
   },
   "id": "8405db40f9d94d3e"
  },
  {
   "cell_type": "code",
   "outputs": [],
   "source": [
    "import xgboost as xgb\n",
    "from sklearn.metrics import accuracy_score\n",
    "\n",
    "\n",
    "\n",
    "def train_xgboost(train_df, test_df):\n",
    "    # Разделяем признаки (X) и метки (y) в тренировочном наборе\n",
    "    X_train = train_df.iloc[:, :-1]  # Все столбцы, кроме последнего (признаки)\n",
    "    y_train = train_df.iloc[:, -1]   # Последний столбец (метки)\n",
    "    \n",
    "    # Разделяем признаки (X) и метки (y) в тестовом наборе\n",
    "    X_test = test_df.iloc[:, :-1]    # Все столбцы, кроме последнего (признаки)\n",
    "    y_test = test_df.iloc[:, -1]     # Последний столбец (метки)\n",
    "    \n",
    "    # Создание модели XGBoost для бинарной классификации\n",
    "    model = xgb.XGBClassifier(use_label_encoder=False, eval_metric='logloss')\n",
    "    \n",
    "    # Обучение модели\n",
    "    model.fit(X_train, y_train)\n",
    "    \n",
    "    # Предсказания на тестовом наборе\n",
    "    y_pred = model.predict(X_test)\n",
    "    \n",
    "    # Оценка модели по точности\n",
    "    accuracy = accuracy_score(y_test, y_pred)\n",
    "    print(f\"Accuracy: {accuracy * 100:.2f}%\")\n",
    "    \n",
    "    return model\n"
   ],
   "metadata": {
    "collapsed": false
   },
   "id": "36005b646d0efaed"
  },
  {
   "cell_type": "code",
   "outputs": [
    {
     "name": "stdout",
     "output_type": "stream",
     "text": [
      "Ключи и значения успешно поменяны местами.\n"
     ]
    }
   ],
   "source": [
    "import json\n",
    "\n",
    "with open('data/heroes_decoder.json', 'r') as file:\n",
    "    data = json.load(file)\n",
    "\n",
    "reversed_data = {v: k for k, v in data.items()}\n",
    "\n",
    "with open('data/heroes_encoder.json', 'w') as file:\n",
    "    json.dump(reversed_data, file, indent=4)\n",
    "\n",
    "print(\"Ключи и значения успешно поменяны местами.\")\n"
   ],
   "metadata": {
    "collapsed": false,
    "ExecuteTime": {
     "end_time": "2024-09-11T15:50:52.413711Z",
     "start_time": "2024-09-11T15:50:52.401106Z"
    }
   },
   "id": "b0c98a01ebc8d60e",
   "execution_count": 1
  },
  {
   "cell_type": "code",
   "outputs": [],
   "source": [
    "with open('data/heroes_encoder.json') as file:\n",
    "    id_heroes_names = json.load(file)"
   ],
   "metadata": {
    "collapsed": false,
    "ExecuteTime": {
     "end_time": "2024-09-11T15:59:35.915237Z",
     "start_time": "2024-09-11T15:59:35.910253Z"
    }
   },
   "id": "9b85c499d4a5481e",
   "execution_count": 2
  },
  {
   "cell_type": "code",
   "outputs": [
    {
     "data": {
      "text/plain": "'93'"
     },
     "execution_count": 3,
     "metadata": {},
     "output_type": "execute_result"
    }
   ],
   "source": [
    "id_heroes_names['Slark']"
   ],
   "metadata": {
    "collapsed": false,
    "ExecuteTime": {
     "end_time": "2024-09-11T15:59:44.507325Z",
     "start_time": "2024-09-11T15:59:44.502202Z"
    }
   },
   "id": "25773744f4005aec",
   "execution_count": 3
  },
  {
   "cell_type": "code",
   "outputs": [
    {
     "name": "stdout",
     "output_type": "stream",
     "text": [
      "[1. 0. 0. 0. 1. 0. 0. 0. 0. 0. 0. 0. 0. 0. 0. 0. 0. 0. 0. 0. 0. 0. 1. 0.\n",
      " 0. 0. 0. 0. 0. 0. 0. 0. 0. 0. 0. 0. 0. 0. 0. 0. 0. 0. 0. 0. 0. 0. 0. 0.\n",
      " 0. 1. 0. 0. 0. 0. 0. 0. 0. 0. 0. 0. 0. 0. 0. 0. 0. 0. 0. 0. 0. 0. 0. 0.\n",
      " 0. 0. 0. 0. 0. 0. 0. 0. 0. 0. 0. 0. 0. 0. 0. 0. 0. 0. 0. 0. 0. 0. 0. 0.\n",
      " 0. 0. 0. 0. 0. 0. 0. 0. 0. 0. 0. 0. 0. 0. 0. 0. 0. 0. 0. 0. 0. 0. 0. 1.\n",
      " 0. 0. 0. 0. 0.]\n"
     ]
    }
   ],
   "source": [
    "import numpy as np\n",
    "\n",
    "\n",
    "total_heroes = 125\n",
    "\n",
    "picked_heroes = [1, 5, 23, 50, 120]\n",
    "\n",
    "one_hot_encoded = np.zeros(total_heroes, dtype=int)\n",
    "\n",
    "for hero in picked_heroes:\n",
    "    one_hot_encoded[hero - 1] = 1\n",
    "\n",
    "print(one_hot_encoded)"
   ],
   "metadata": {
    "collapsed": false,
    "ExecuteTime": {
     "end_time": "2024-09-11T16:12:47.312312Z",
     "start_time": "2024-09-11T16:12:47.247669Z"
    }
   },
   "id": "29f742f4af79cc57",
   "execution_count": 4
  },
  {
   "cell_type": "code",
   "outputs": [],
   "source": [],
   "metadata": {
    "collapsed": false
   },
   "id": "e7d7e959f3a0c009"
  }
 ],
 "metadata": {
  "kernelspec": {
   "display_name": "Python 3",
   "language": "python",
   "name": "python3"
  },
  "language_info": {
   "codemirror_mode": {
    "name": "ipython",
    "version": 2
   },
   "file_extension": ".py",
   "mimetype": "text/x-python",
   "name": "python",
   "nbconvert_exporter": "python",
   "pygments_lexer": "ipython2",
   "version": "2.7.6"
  }
 },
 "nbformat": 4,
 "nbformat_minor": 5
}
